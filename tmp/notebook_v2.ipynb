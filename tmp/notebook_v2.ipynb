{
 "cells": [
  {
   "cell_type": "code",
   "execution_count": 12,
   "metadata": {},
   "outputs": [
    {
     "name": "stdout",
     "output_type": "stream",
     "text": [
      "Requirement already satisfied: api.video in /usr/local/anaconda3/lib/python3.9/site-packages (1.4.4)\n",
      "Requirement already satisfied: setuptools>=21.0.0 in /usr/local/anaconda3/lib/python3.9/site-packages (from api.video) (63.4.1)\n",
      "Requirement already satisfied: urllib3>=1.25.3 in /usr/local/anaconda3/lib/python3.9/site-packages (from api.video) (1.26.11)\n",
      "Requirement already satisfied: python-dateutil>=2.5.3 in /usr/local/anaconda3/lib/python3.9/site-packages (from api.video) (2.8.2)\n",
      "Requirement already satisfied: six>=1.5 in /usr/local/anaconda3/lib/python3.9/site-packages (from python-dateutil>=2.5.3->api.video) (1.16.0)\n"
     ]
    }
   ],
   "source": [
    "!pip3 install api.video"
   ]
  },
  {
   "cell_type": "code",
   "execution_count": 2,
   "metadata": {},
   "outputs": [],
   "source": [
    "API_VIDEO_API_KEY = \"dHGElV8BsOEzcjGM1eLOy5LYnrx0TyqR45TgfjMBPL2\""
   ]
  },
  {
   "cell_type": "code",
   "execution_count": 3,
   "metadata": {},
   "outputs": [
    {
     "name": "stdout",
     "output_type": "stream",
     "text": [
      "Updated metadata for video vi18qSrl7wIdeYOKuDg7YQBx\n",
      "Updated metadata for video vi1GPAuvhakg74TUpNoMMUvc\n",
      "Updated metadata for video vi31gHvd0MMz8FonUstjUyMe\n",
      "Updated metadata for video vi3MC0JsaO4n4cA7cYgYzpb4\n",
      "Updated metadata for video vi42vP3lFwcaZP6hH82M5wZE\n",
      "Updated metadata for video vi4flB6clm0iow6IFTbC7emI\n",
      "Updated metadata for video vi5lUKF5SojsvO2eH5MdSXVs\n",
      "Updated metadata for video vi6TBTdOQ3bkW2b7ku6xtvbK\n",
      "Updated metadata for video vi6aqbh5ikJLOYkqOdO7TvN1\n",
      "Updated metadata for video vi7ITVcbI2cXqYj2CnwKvSXg\n",
      "Metadata update process completed.\n"
     ]
    }
   ],
   "source": [
    "import apivideo\n",
    "from apivideo.api import videos_api\n",
    "from apivideo.model.video_update_payload import VideoUpdatePayload\n",
    "from apivideo.model.bad_request import BadRequest\n",
    "from apivideo.model.not_found import NotFound\n",
    "from apivideo.model.metadata import Metadata\n",
    "import json\n",
    "import pandas as pd\n",
    "\n",
    "\n",
    "def read_and_process_csv(file_path):\n",
    "    df = pd.read_csv(file_path)\n",
    "    df[[\"video_id\", \"activity\", \"sequence_id\"]] = df[\"id\"].str.split(\n",
    "        \"_\", n=2, expand=True\n",
    "    )\n",
    "    df[\"sequence_id\"] = df[\"sequence_id\"].astype(str)\n",
    "\n",
    "    df = df.rename(\n",
    "        columns={\n",
    "            \"segment_id_sequence_start\": \"segment_id_sequence_start\",\n",
    "            \"segment_id_sequence_end\": \"segment_id_sequence_end\",\n",
    "            \"summary\": \"summary\",\n",
    "            \"title\": \"title\",\n",
    "            \"segment_start_timestamp\": \"segment_start_timestamp\",\n",
    "            \"segment_end_timestamp\": \"segment_end_timestamp\",\n",
    "            \"segment_start_timestamp_in_seconds\": \"segment_start_timestamp_in_seconds\",\n",
    "            \"segment_end_timestamp_in_seconds\": \"segment_end_timestamp_in_seconds\",\n",
    "            \"activity_type\": \"activity_type\",\n",
    "            \"activity_reasoning\": \"activity_reasoning\",\n",
    "            \"target_person_type\": \"target_person_type\",\n",
    "            \"target_person_reasoning\": \"target_person_reasoning\",\n",
    "            \"Moment_url\": \"Moment_url\",\n",
    "        }\n",
    "    )\n",
    "\n",
    "    df[\"index\"] = df[\"id\"]\n",
    "    df[\"type\"] = df[\"activity\"].str.lower()\n",
    "\n",
    "    df = df.astype(str)\n",
    "\n",
    "    columns = [\n",
    "        \"index\",\n",
    "        \"sequence_id\",\n",
    "        \"segment_id_sequence_start\",\n",
    "        \"segment_id_sequence_end\",\n",
    "        \"summary\",\n",
    "        \"title\",\n",
    "        \"segment_start_timestamp\",\n",
    "        \"segment_end_timestamp\",\n",
    "        \"segment_start_timestamp_in_seconds\",\n",
    "        \"segment_end_timestamp_in_seconds\",\n",
    "        \"video_id\",\n",
    "        \"activity_type\",\n",
    "        \"activity_reasoning\",\n",
    "        \"target_person_type\",\n",
    "        \"target_person_reasoning\",\n",
    "        \"activity\",\n",
    "        \"Moment_url\",\n",
    "        \"type\",\n",
    "    ]\n",
    "\n",
    "    df = df[columns]\n",
    "\n",
    "    return df\n",
    "\n",
    "\n",
    "def update_video_metadata(api_instance, video_id, activities):\n",
    "    try:\n",
    "        video = api_instance.get(video_id)\n",
    "        current_metadata = video.metadata\n",
    "\n",
    "        current_metadata = [m for m in current_metadata if m.key != \"activities\"]\n",
    "\n",
    "        new_activities = Metadata(\n",
    "            key=\"activities\", value=json.dumps(activities.to_dict(\"records\"))\n",
    "        )\n",
    "        current_metadata.append(new_activities)\n",
    "\n",
    "        update_payload = VideoUpdatePayload(metadata=current_metadata)\n",
    "\n",
    "        api_instance.update(video_id, update_payload)\n",
    "        print(f\"Updated metadata for video {video_id}\")\n",
    "        return True\n",
    "    except apivideo.ApiException as e:\n",
    "        print(f\"Exception when updating video {video_id}: {e}\")\n",
    "        return False\n",
    "\n",
    "\n",
    "def main():\n",
    "    df = read_and_process_csv(\"./activity_moments_clean_v3.csv\")\n",
    "    grouped_df = df.groupby(\"video_id\")\n",
    "\n",
    "    with apivideo.AuthenticatedApiClient(API_VIDEO_API_KEY) as api_client:\n",
    "        api_instance = videos_api.VideosApi(api_client)\n",
    "\n",
    "        for video_id, activities in grouped_df:\n",
    "            success = update_video_metadata(api_instance, video_id, activities)\n",
    "            if not success:\n",
    "                print(f\"Failed to update metadata for video {video_id}\")\n",
    "\n",
    "    print(\"Metadata update process completed.\")\n",
    "\n",
    "\n",
    "main()"
   ]
  }
 ],
 "metadata": {
  "kernelspec": {
   "display_name": "Python 3",
   "language": "python",
   "name": "python3"
  },
  "language_info": {
   "codemirror_mode": {
    "name": "ipython",
    "version": 3
   },
   "file_extension": ".py",
   "mimetype": "text/x-python",
   "name": "python",
   "nbconvert_exporter": "python",
   "pygments_lexer": "ipython3",
   "version": "3.9.13"
  }
 },
 "nbformat": 4,
 "nbformat_minor": 2
}
